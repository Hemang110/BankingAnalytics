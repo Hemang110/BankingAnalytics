{
 "cells": [
  {
   "cell_type": "code",
   "execution_count": 26,
   "id": "ff2c3125",
   "metadata": {},
   "outputs": [],
   "source": [
    "import pandas as pd;\n"
   ]
  },
  {
   "cell_type": "code",
   "execution_count": 27,
   "id": "344295f8",
   "metadata": {},
   "outputs": [
    {
     "name": "stdout",
     "output_type": "stream",
     "text": [
      "['dim_customers.csv', 'fact_spends.csv', 'How to Get Started (A Step-by-Step Guide).pdf', 'Insight Ideas from Tony.pdf', 'meta_data.txt', 'problem_statement.pdf']\n"
     ]
    }
   ],
   "source": [
    "import os\n",
    "\n",
    "path = 'd:/BankingDomainAnalysis/C8_Input_Files/C8_Input_Files'\n",
    "print(os.listdir(path))  # "
   ]
  },
  {
   "cell_type": "code",
   "execution_count": 28,
   "id": "3ae9bca1",
   "metadata": {},
   "outputs": [
    {
     "data": {
      "text/html": [
       "<div>\n",
       "<style scoped>\n",
       "    .dataframe tbody tr th:only-of-type {\n",
       "        vertical-align: middle;\n",
       "    }\n",
       "\n",
       "    .dataframe tbody tr th {\n",
       "        vertical-align: top;\n",
       "    }\n",
       "\n",
       "    .dataframe thead th {\n",
       "        text-align: right;\n",
       "    }\n",
       "</style>\n",
       "<table border=\"1\" class=\"dataframe\">\n",
       "  <thead>\n",
       "    <tr style=\"text-align: right;\">\n",
       "      <th></th>\n",
       "      <th>customer_id</th>\n",
       "      <th>age_group</th>\n",
       "      <th>city</th>\n",
       "      <th>occupation</th>\n",
       "      <th>gender</th>\n",
       "      <th>marital status</th>\n",
       "      <th>avg_income</th>\n",
       "    </tr>\n",
       "  </thead>\n",
       "  <tbody>\n",
       "    <tr>\n",
       "      <th>0</th>\n",
       "      <td>ATQCUS1825</td>\n",
       "      <td>45+</td>\n",
       "      <td>Bengaluru</td>\n",
       "      <td>Salaried IT Employees</td>\n",
       "      <td>Male</td>\n",
       "      <td>Married</td>\n",
       "      <td>73523</td>\n",
       "    </tr>\n",
       "    <tr>\n",
       "      <th>1</th>\n",
       "      <td>ATQCUS0809</td>\n",
       "      <td>25-34</td>\n",
       "      <td>Hyderabad</td>\n",
       "      <td>Salaried Other Employees</td>\n",
       "      <td>Male</td>\n",
       "      <td>Married</td>\n",
       "      <td>39922</td>\n",
       "    </tr>\n",
       "    <tr>\n",
       "      <th>2</th>\n",
       "      <td>ATQCUS0663</td>\n",
       "      <td>25-34</td>\n",
       "      <td>Chennai</td>\n",
       "      <td>Salaried Other Employees</td>\n",
       "      <td>Male</td>\n",
       "      <td>Married</td>\n",
       "      <td>37702</td>\n",
       "    </tr>\n",
       "    <tr>\n",
       "      <th>3</th>\n",
       "      <td>ATQCUS0452</td>\n",
       "      <td>25-34</td>\n",
       "      <td>Delhi NCR</td>\n",
       "      <td>Government Employees</td>\n",
       "      <td>Male</td>\n",
       "      <td>Married</td>\n",
       "      <td>54090</td>\n",
       "    </tr>\n",
       "    <tr>\n",
       "      <th>4</th>\n",
       "      <td>ATQCUS3350</td>\n",
       "      <td>21-24</td>\n",
       "      <td>Bengaluru</td>\n",
       "      <td>Freelancers</td>\n",
       "      <td>Male</td>\n",
       "      <td>Single</td>\n",
       "      <td>28376</td>\n",
       "    </tr>\n",
       "  </tbody>\n",
       "</table>\n",
       "</div>"
      ],
      "text/plain": [
       "  customer_id age_group       city                occupation gender  \\\n",
       "0  ATQCUS1825       45+  Bengaluru     Salaried IT Employees   Male   \n",
       "1  ATQCUS0809     25-34  Hyderabad  Salaried Other Employees   Male   \n",
       "2  ATQCUS0663     25-34    Chennai  Salaried Other Employees   Male   \n",
       "3  ATQCUS0452     25-34  Delhi NCR      Government Employees   Male   \n",
       "4  ATQCUS3350     21-24  Bengaluru               Freelancers   Male   \n",
       "\n",
       "  marital status  avg_income  \n",
       "0        Married       73523  \n",
       "1        Married       39922  \n",
       "2        Married       37702  \n",
       "3        Married       54090  \n",
       "4         Single       28376  "
      ]
     },
     "execution_count": 28,
     "metadata": {},
     "output_type": "execute_result"
    }
   ],
   "source": [
    "df = pd.read_csv('d:/BankingDomainAnalysis/C8_Input_Files/C8_Input_Files/dim_customers.csv')\n",
    "\n",
    "# Display the first few rows\n",
    "df.head()"
   ]
  },
  {
   "cell_type": "code",
   "execution_count": 29,
   "id": "faf016c5",
   "metadata": {},
   "outputs": [],
   "source": [
    "df1 = pd.read_csv('d:/BankingDomainAnalysis/C8_Input_Files/C8_Input_Files/fact_spends.csv', index_col=0)"
   ]
  },
  {
   "cell_type": "code",
   "execution_count": 30,
   "id": "8757731b",
   "metadata": {},
   "outputs": [
    {
     "data": {
      "text/html": [
       "<div>\n",
       "<style scoped>\n",
       "    .dataframe tbody tr th:only-of-type {\n",
       "        vertical-align: middle;\n",
       "    }\n",
       "\n",
       "    .dataframe tbody tr th {\n",
       "        vertical-align: top;\n",
       "    }\n",
       "\n",
       "    .dataframe thead th {\n",
       "        text-align: right;\n",
       "    }\n",
       "</style>\n",
       "<table border=\"1\" class=\"dataframe\">\n",
       "  <thead>\n",
       "    <tr style=\"text-align: right;\">\n",
       "      <th></th>\n",
       "      <th>month</th>\n",
       "      <th>category</th>\n",
       "      <th>payment_type</th>\n",
       "      <th>spend</th>\n",
       "    </tr>\n",
       "    <tr>\n",
       "      <th>customer_id</th>\n",
       "      <th></th>\n",
       "      <th></th>\n",
       "      <th></th>\n",
       "      <th></th>\n",
       "    </tr>\n",
       "  </thead>\n",
       "  <tbody>\n",
       "    <tr>\n",
       "      <th>ATQCUS1371</th>\n",
       "      <td>July</td>\n",
       "      <td>Health &amp; Wellness</td>\n",
       "      <td>Credit Card</td>\n",
       "      <td>1114</td>\n",
       "    </tr>\n",
       "    <tr>\n",
       "      <th>ATQCUS0368</th>\n",
       "      <td>October</td>\n",
       "      <td>Groceries</td>\n",
       "      <td>Credit Card</td>\n",
       "      <td>1466</td>\n",
       "    </tr>\n",
       "    <tr>\n",
       "      <th>ATQCUS0595</th>\n",
       "      <td>May</td>\n",
       "      <td>Health &amp; Wellness</td>\n",
       "      <td>Credit Card</td>\n",
       "      <td>387</td>\n",
       "    </tr>\n",
       "    <tr>\n",
       "      <th>ATQCUS0667</th>\n",
       "      <td>October</td>\n",
       "      <td>Electronics</td>\n",
       "      <td>Credit Card</td>\n",
       "      <td>1137</td>\n",
       "    </tr>\n",
       "    <tr>\n",
       "      <th>ATQCUS3477</th>\n",
       "      <td>September</td>\n",
       "      <td>Bills</td>\n",
       "      <td>UPI</td>\n",
       "      <td>2102</td>\n",
       "    </tr>\n",
       "  </tbody>\n",
       "</table>\n",
       "</div>"
      ],
      "text/plain": [
       "                 month           category payment_type  spend\n",
       "customer_id                                                  \n",
       "ATQCUS1371        July  Health & Wellness  Credit Card   1114\n",
       "ATQCUS0368     October          Groceries  Credit Card   1466\n",
       "ATQCUS0595         May  Health & Wellness  Credit Card    387\n",
       "ATQCUS0667     October        Electronics  Credit Card   1137\n",
       "ATQCUS3477   September              Bills          UPI   2102"
      ]
     },
     "execution_count": 30,
     "metadata": {},
     "output_type": "execute_result"
    }
   ],
   "source": [
    "df1.head()"
   ]
  },
  {
   "cell_type": "code",
   "execution_count": 31,
   "id": "fe03ddb2",
   "metadata": {},
   "outputs": [
    {
     "data": {
      "image/png": "[encoded data removed]",
      "text/plain": [
       "<Figure size 640x480 with 1 Axes>"
      ]
     },
     "metadata": {},
     "output_type": "display_data"
    }
   ],
   "source": [
    "import matplotlib.pyplot as plt\n",
    "\n",
    "plt.hist(df['avg_income'], bins=20)\n",
    "plt.xlabel('Average Income')\n",
    "plt.ylabel('Frequency')\n",
    "plt.title('Distribution of avg_income')\n",
    "plt.show()"
   ]
  },
  {
   "cell_type": "code",
   "execution_count": 32,
   "id": "82b34ec8",
   "metadata": {},
   "outputs": [
    {
     "name": "stdout",
     "output_type": "stream",
     "text": [
      "['Bengaluru' 'Hyderabad' 'Chennai' 'Delhi NCR' 'Mumbai']\n"
     ]
    }
   ],
   "source": [
    "print(df['city'].unique())"
   ]
  },
  {
   "cell_type": "code",
   "execution_count": 48,
   "id": "76bd97e4",
   "metadata": {},
   "outputs": [
    {
     "name": "stdout",
     "output_type": "stream",
     "text": [
      "High    2000\n",
      "Low     2000\n",
      "Name: income_group, dtype: int64\n"
     ]
    }
   ],
   "source": [
    "df['adjusted_income'] = df.apply(\n",
    "    lambda row: row['avg_income'] / 1.5 if row['marital status'] == 'Married' else row['avg_income'],\n",
    "    axis=1\n",
    ")\n",
    "\n",
    "# Calculate the median of the adjusted income\n",
    "median_adjusted_income = df['adjusted_income'].median()\n",
    "\n",
    "# Assign income group based on adjusted median\n",
    "df['income_group'] = df['adjusted_income'].apply(\n",
    "    lambda x: 'High' if x >= median_adjusted_income else 'Low'\n",
    ")\n",
    "\n",
    "# Show the count of each group\n",
    "print(df['income_group'].value_counts())"
   ]
  },
  {
   "cell_type": "code",
   "execution_count": 49,
   "id": "b93fbabd",
   "metadata": {},
   "outputs": [
    {
     "data": {
      "text/html": [
       "<div>\n",
       "<style scoped>\n",
       "    .dataframe tbody tr th:only-of-type {\n",
       "        vertical-align: middle;\n",
       "    }\n",
       "\n",
       "    .dataframe tbody tr th {\n",
       "        vertical-align: top;\n",
       "    }\n",
       "\n",
       "    .dataframe thead th {\n",
       "        text-align: right;\n",
       "    }\n",
       "</style>\n",
       "<table border=\"1\" class=\"dataframe\">\n",
       "  <thead>\n",
       "    <tr style=\"text-align: right;\">\n",
       "      <th></th>\n",
       "      <th>customer_id</th>\n",
       "      <th>age_group</th>\n",
       "      <th>city</th>\n",
       "      <th>occupation</th>\n",
       "      <th>gender</th>\n",
       "      <th>marital status</th>\n",
       "      <th>avg_income</th>\n",
       "      <th>income_group</th>\n",
       "      <th>adjusted_income</th>\n",
       "    </tr>\n",
       "  </thead>\n",
       "  <tbody>\n",
       "    <tr>\n",
       "      <th>0</th>\n",
       "      <td>ATQCUS1825</td>\n",
       "      <td>45+</td>\n",
       "      <td>Bengaluru</td>\n",
       "      <td>Salaried IT Employees</td>\n",
       "      <td>Male</td>\n",
       "      <td>Married</td>\n",
       "      <td>73523</td>\n",
       "      <td>High</td>\n",
       "      <td>49015.333333</td>\n",
       "    </tr>\n",
       "    <tr>\n",
       "      <th>1</th>\n",
       "      <td>ATQCUS0809</td>\n",
       "      <td>25-34</td>\n",
       "      <td>Hyderabad</td>\n",
       "      <td>Salaried Other Employees</td>\n",
       "      <td>Male</td>\n",
       "      <td>Married</td>\n",
       "      <td>39922</td>\n",
       "      <td>Low</td>\n",
       "      <td>26614.666667</td>\n",
       "    </tr>\n",
       "    <tr>\n",
       "      <th>2</th>\n",
       "      <td>ATQCUS0663</td>\n",
       "      <td>25-34</td>\n",
       "      <td>Chennai</td>\n",
       "      <td>Salaried Other Employees</td>\n",
       "      <td>Male</td>\n",
       "      <td>Married</td>\n",
       "      <td>37702</td>\n",
       "      <td>Low</td>\n",
       "      <td>25134.666667</td>\n",
       "    </tr>\n",
       "    <tr>\n",
       "      <th>3</th>\n",
       "      <td>ATQCUS0452</td>\n",
       "      <td>25-34</td>\n",
       "      <td>Delhi NCR</td>\n",
       "      <td>Government Employees</td>\n",
       "      <td>Male</td>\n",
       "      <td>Married</td>\n",
       "      <td>54090</td>\n",
       "      <td>Low</td>\n",
       "      <td>36060.000000</td>\n",
       "    </tr>\n",
       "    <tr>\n",
       "      <th>4</th>\n",
       "      <td>ATQCUS3350</td>\n",
       "      <td>21-24</td>\n",
       "      <td>Bengaluru</td>\n",
       "      <td>Freelancers</td>\n",
       "      <td>Male</td>\n",
       "      <td>Single</td>\n",
       "      <td>28376</td>\n",
       "      <td>Low</td>\n",
       "      <td>28376.000000</td>\n",
       "    </tr>\n",
       "  </tbody>\n",
       "</table>\n",
       "</div>"
      ],
      "text/plain": [
       "  customer_id age_group       city                occupation gender  \\\n",
       "0  ATQCUS1825       45+  Bengaluru     Salaried IT Employees   Male   \n",
       "1  ATQCUS0809     25-34  Hyderabad  Salaried Other Employees   Male   \n",
       "2  ATQCUS0663     25-34    Chennai  Salaried Other Employees   Male   \n",
       "3  ATQCUS0452     25-34  Delhi NCR      Government Employees   Male   \n",
       "4  ATQCUS3350     21-24  Bengaluru               Freelancers   Male   \n",
       "\n",
       "  marital status  avg_income income_group  adjusted_income  \n",
       "0        Married       73523         High     49015.333333  \n",
       "1        Married       39922          Low     26614.666667  \n",
       "2        Married       37702          Low     25134.666667  \n",
       "3        Married       54090          Low     36060.000000  \n",
       "4         Single       28376          Low     28376.000000  "
      ]
     },
     "execution_count": 49,
     "metadata": {},
     "output_type": "execute_result"
    }
   ],
   "source": [
    "df.head()"
   ]
  },
  {
   "cell_type": "code",
   "execution_count": null,
   "id": "69ee04d3",
   "metadata": {},
   "outputs": [],
   "source": []
  },
  {
   "cell_type": "code",
   "execution_count": 37,
   "id": "0212f882",
   "metadata": {},
   "outputs": [
    {
     "data": {
      "text/html": [
       "<div>\n",
       "<style scoped>\n",
       "    .dataframe tbody tr th:only-of-type {\n",
       "        vertical-align: middle;\n",
       "    }\n",
       "\n",
       "    .dataframe tbody tr th {\n",
       "        vertical-align: top;\n",
       "    }\n",
       "\n",
       "    .dataframe thead th {\n",
       "        text-align: right;\n",
       "    }\n",
       "</style>\n",
       "<table border=\"1\" class=\"dataframe\">\n",
       "  <thead>\n",
       "    <tr style=\"text-align: right;\">\n",
       "      <th></th>\n",
       "      <th>customer_id</th>\n",
       "      <th>spend</th>\n",
       "    </tr>\n",
       "  </thead>\n",
       "  <tbody>\n",
       "    <tr>\n",
       "      <th>0</th>\n",
       "      <td>ATQCUS0001</td>\n",
       "      <td>170545</td>\n",
       "    </tr>\n",
       "    <tr>\n",
       "      <th>1</th>\n",
       "      <td>ATQCUS0002</td>\n",
       "      <td>168514</td>\n",
       "    </tr>\n",
       "    <tr>\n",
       "      <th>2</th>\n",
       "      <td>ATQCUS0003</td>\n",
       "      <td>157534</td>\n",
       "    </tr>\n",
       "    <tr>\n",
       "      <th>3</th>\n",
       "      <td>ATQCUS0004</td>\n",
       "      <td>162655</td>\n",
       "    </tr>\n",
       "    <tr>\n",
       "      <th>4</th>\n",
       "      <td>ATQCUS0005</td>\n",
       "      <td>157296</td>\n",
       "    </tr>\n",
       "  </tbody>\n",
       "</table>\n",
       "</div>"
      ],
      "text/plain": [
       "  customer_id   spend\n",
       "0  ATQCUS0001  170545\n",
       "1  ATQCUS0002  168514\n",
       "2  ATQCUS0003  157534\n",
       "3  ATQCUS0004  162655\n",
       "4  ATQCUS0005  157296"
      ]
     },
     "execution_count": 37,
     "metadata": {},
     "output_type": "execute_result"
    }
   ],
   "source": [
    "spending_per_customer = df1.groupby('customer_id')['spend'].sum().reset_index()\n",
    "spending_per_customer.head()"
   ]
  },
  {
   "cell_type": "code",
   "execution_count": 41,
   "id": "a1cce1b2",
   "metadata": {},
   "outputs": [
    {
     "data": {
      "text/html": [
       "<div>\n",
       "<style scoped>\n",
       "    .dataframe tbody tr th:only-of-type {\n",
       "        vertical-align: middle;\n",
       "    }\n",
       "\n",
       "    .dataframe tbody tr th {\n",
       "        vertical-align: top;\n",
       "    }\n",
       "\n",
       "    .dataframe thead th {\n",
       "        text-align: right;\n",
       "    }\n",
       "</style>\n",
       "<table border=\"1\" class=\"dataframe\">\n",
       "  <thead>\n",
       "    <tr style=\"text-align: right;\">\n",
       "      <th></th>\n",
       "      <th>month</th>\n",
       "      <th>customer_id</th>\n",
       "      <th>total_monthly_spend</th>\n",
       "    </tr>\n",
       "  </thead>\n",
       "  <tbody>\n",
       "    <tr>\n",
       "      <th>0</th>\n",
       "      <td>August</td>\n",
       "      <td>ATQCUS0001</td>\n",
       "      <td>33776</td>\n",
       "    </tr>\n",
       "    <tr>\n",
       "      <th>1</th>\n",
       "      <td>August</td>\n",
       "      <td>ATQCUS0002</td>\n",
       "      <td>29343</td>\n",
       "    </tr>\n",
       "    <tr>\n",
       "      <th>2</th>\n",
       "      <td>August</td>\n",
       "      <td>ATQCUS0003</td>\n",
       "      <td>26112</td>\n",
       "    </tr>\n",
       "    <tr>\n",
       "      <th>3</th>\n",
       "      <td>August</td>\n",
       "      <td>ATQCUS0004</td>\n",
       "      <td>31519</td>\n",
       "    </tr>\n",
       "    <tr>\n",
       "      <th>4</th>\n",
       "      <td>August</td>\n",
       "      <td>ATQCUS0005</td>\n",
       "      <td>28033</td>\n",
       "    </tr>\n",
       "  </tbody>\n",
       "</table>\n",
       "</div>"
      ],
      "text/plain": [
       "    month customer_id  total_monthly_spend\n",
       "0  August  ATQCUS0001                33776\n",
       "1  August  ATQCUS0002                29343\n",
       "2  August  ATQCUS0003                26112\n",
       "3  August  ATQCUS0004                31519\n",
       "4  August  ATQCUS0005                28033"
      ]
     },
     "execution_count": 41,
     "metadata": {},
     "output_type": "execute_result"
    }
   ],
   "source": [
    "# Group the spending data by month and customer_id, then sum the spend for each group\n",
    "monthly_spend = (\n",
    "    df1\n",
    "    .groupby(['month', 'customer_id'])['spend']\n",
    "    .sum()\n",
    "    .reset_index()\n",
    "    .rename(columns={'spend': 'total_monthly_spend'})\n",
    ")\n",
    "\n",
    "# Display the first few rows\n",
    "monthly_spend.head()"
   ]
  },
  {
   "cell_type": "code",
   "execution_count": 43,
   "id": "c27b0ba6",
   "metadata": {},
   "outputs": [
    {
     "name": "stdout",
     "output_type": "stream",
     "text": [
      "           month customer_id  spend\n",
      "0         August  ATQCUS0001  33776\n",
      "4000        July  ATQCUS0001  29451\n",
      "8000        June  ATQCUS0001  26316\n",
      "12000        May  ATQCUS0001  19480\n",
      "16000    October  ATQCUS0001  25262\n",
      "20000  September  ATQCUS0001  36260\n"
     ]
    }
   ],
   "source": [
    "# First, group to get monthly spend per customer\n",
    "monthly_spend = (\n",
    "    df1\n",
    "    .groupby(['month', 'customer_id'])['spend']\n",
    "    .sum()\n",
    "    .reset_index()\n",
    ")\n",
    "\n",
    "# Now, filter for a specific customer_id, e.g., 1\n",
    "customer_id = 'ATQCUS0001'\t  # You can change this to any ID\n",
    "customer_monthly_spend = monthly_spend[monthly_spend['customer_id'] == customer_id]\n",
    "\n",
    "# Display the result\n",
    "print(customer_monthly_spend)"
   ]
  },
  {
   "cell_type": "code",
   "execution_count": 50,
   "id": "8df77fc6",
   "metadata": {},
   "outputs": [
    {
     "name": "stdout",
     "output_type": "stream",
     "text": [
      "['Health & Wellness' 'Groceries' 'Electronics' 'Bills' 'Entertainment'\n",
      " 'Apparel' 'Food' 'Others' 'Travel']\n"
     ]
    }
   ],
   "source": [
    "print(df1['category'].unique())"
   ]
  },
  {
   "cell_type": "code",
   "execution_count": 51,
   "id": "30107f81",
   "metadata": {},
   "outputs": [],
   "source": [
    "# Group by customer and category, sum the spend\n",
    "customer_category_spend = (\n",
    "    df1.groupby(['customer_id', 'category'])['spend']\n",
    "    .sum()\n",
    "    .reset_index()\n",
    ")\n",
    "\n",
    "# For each customer, find the category with the maximum spend\n",
    "idx = customer_category_spend.groupby('customer_id')['spend'].idxmax()\n",
    "top_category_per_customer = customer_category_spend.loc[idx].reset_index(drop=True)"
   ]
  },
  {
   "cell_type": "code",
   "execution_count": 55,
   "id": "3e48a6e7",
   "metadata": {},
   "outputs": [
    {
     "name": "stdout",
     "output_type": "stream",
     "text": [
      "     customer_id           category  spend\n",
      "0     ATQCUS0001      Entertainment  45144\n",
      "1     ATQCUS0002      Entertainment  39911\n",
      "2     ATQCUS0003      Entertainment  40910\n",
      "3     ATQCUS0004      Entertainment  42729\n",
      "4     ATQCUS0005      Entertainment  39975\n",
      "...          ...                ...    ...\n",
      "3995  ATQCUS3996  Health & Wellness  16839\n",
      "3996  ATQCUS3997  Health & Wellness  10038\n",
      "3997  ATQCUS3998             Travel  10687\n",
      "3998  ATQCUS3999  Health & Wellness  11889\n",
      "3999  ATQCUS4000              Bills   8578\n",
      "\n",
      "[4000 rows x 3 columns]\n"
     ]
    }
   ],
   "source": [
    "print(top_category_per_customer)"
   ]
  },
  {
   "cell_type": "code",
   "execution_count": 56,
   "id": "a5bb3bbd",
   "metadata": {},
   "outputs": [
    {
     "name": "stdout",
     "output_type": "stream",
     "text": [
      "  customer_id       category  spend income_group  adjusted_income  \\\n",
      "0  ATQCUS0001  Entertainment  45144          Low            33178   \n",
      "1  ATQCUS0002  Entertainment  39911          Low            31557   \n",
      "2  ATQCUS0003  Entertainment  40910          Low            32567   \n",
      "3  ATQCUS0004  Entertainment  42729          Low            30283   \n",
      "4  ATQCUS0005  Entertainment  39975          Low            31154   \n",
      "\n",
      "   spend_per_month  \n",
      "0          3762.00  \n",
      "1          3325.92  \n",
      "2          3409.17  \n",
      "3          3560.75  \n",
      "4          3331.25  \n"
     ]
    }
   ],
   "source": [
    "# Merge income_group and adjusted_income from df to top_category_per_customer using customer_id\n",
    "top_category_per_customer = top_category_per_customer.merge(\n",
    "    df[['customer_id', 'income_group', 'adjusted_income']],\n",
    "    on='customer_id',\n",
    "    how='left'\n",
    ")\n",
    "\n",
    "# Add spend_per_month column (spend divided by 12)\n",
    "top_category_per_customer['spend_per_month'] = (top_category_per_customer['spend'] / 12).round(2)\n",
    "\n",
    "# Remove decimals from adjusted_income column\n",
    "top_category_per_customer['adjusted_income'] = top_category_per_customer['adjusted_income'].astype(int)\n",
    "\n",
    "# Display the result\n",
    "print(top_category_per_customer.head())"
   ]
  },
  {
   "cell_type": "code",
   "execution_count": 57,
   "id": "42d3ec0f",
   "metadata": {},
   "outputs": [
    {
     "name": "stdout",
     "output_type": "stream",
     "text": [
      "  customer_id       category  spend income_group  adjusted_income  \\\n",
      "0  ATQCUS0001  Entertainment  45144          Low            33178   \n",
      "1  ATQCUS0002  Entertainment  39911          Low            31557   \n",
      "2  ATQCUS0003  Entertainment  40910          Low            32567   \n",
      "3  ATQCUS0004  Entertainment  42729          Low            30283   \n",
      "4  ATQCUS0005  Entertainment  39975          Low            31154   \n",
      "\n",
      "   spend_per_month  income_utilization_pct  \n",
      "0          3762.00                   11.34  \n",
      "1          3325.92                   10.54  \n",
      "2          3409.17                   10.47  \n",
      "3          3560.75                   11.76  \n",
      "4          3331.25                   10.69  \n"
     ]
    }
   ],
   "source": [
    "# Calculate average income utilization % by dividing adjusted_income by spend_per_month\n",
    "top_category_per_customer['income_utilization_pct'] = (\n",
    "    (top_category_per_customer['spend_per_month'] / top_category_per_customer['adjusted_income']) * 100\n",
    ").round(2)\n",
    "\n",
    "# Display the result\n",
    "print(top_category_per_customer.head())"
   ]
  },
  {
   "cell_type": "code",
   "execution_count": 60,
   "id": "967012bb",
   "metadata": {},
   "outputs": [
    {
     "name": "stdout",
     "output_type": "stream",
     "text": [
      "      income_utilization_pct utilization_group\n",
      "0                      11.34         Very High\n",
      "1                      10.54         Very High\n",
      "2                      10.47         Very High\n",
      "3                      11.76         Very High\n",
      "4                      10.69         Very High\n",
      "...                      ...               ...\n",
      "3995                    2.06          Very Low\n",
      "3996                    2.51          Very Low\n",
      "3997                    2.67          Very Low\n",
      "3998                    2.65          Very Low\n",
      "3999                    1.40          Very Low\n",
      "\n",
      "[4000 rows x 2 columns]\n"
     ]
    }
   ],
   "source": [
    "# Divide income_utilization_pct into four equal categories (quartiles)\n",
    "labels = ['Very Low', 'Low', 'High', 'Very High']\n",
    "top_category_per_customer['utilization_group'] = pd.qcut(\n",
    "    top_category_per_customer['income_utilization_pct'],\n",
    "    q=4,\n",
    "    labels=labels\n",
    ")\n",
    "\n",
    "# Display the result\n",
    "print(top_category_per_customer[['income_utilization_pct', 'utilization_group']])"
   ]
  },
  {
   "cell_type": "code",
   "execution_count": 61,
   "id": "62c63273",
   "metadata": {},
   "outputs": [
    {
     "name": "stdout",
     "output_type": "stream",
     "text": [
      "CSV file created: top_category_per_customer.csv\n"
     ]
    }
   ],
   "source": [
    "# Save the top_category_per_customer DataFrame to a new CSV file\n",
    "top_category_per_customer.to_csv('top_category_per_customer.csv', index=False)\n",
    "print(\"CSV file created: top_category_per_customer.csv\")"
   ]
  }
 ],
 "metadata": {
  "kernelspec": {
   "display_name": "Python 3",
   "language": "python",
   "name": "python3"
  },
  "language_info": {
   "codemirror_mode": {
    "name": "ipython",
    "version": 3
   },
   "file_extension": ".py",
   "mimetype": "text/x-python",
   "name": "python",
   "nbconvert_exporter": "python",
   "pygments_lexer": "ipython3",
   "version": "3.9.4"
  }
 },
 "nbformat": 4,
 "nbformat_minor": 5
}
